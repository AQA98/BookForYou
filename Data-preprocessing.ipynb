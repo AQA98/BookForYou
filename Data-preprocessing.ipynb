{
 "cells": [
  {
   "attachments": {},
   "cell_type": "markdown",
   "metadata": {},
   "source": [
    "### Problem\n",
    "\n",
    "One of the biggest challenges when wanting to read books is finding the right book to read. That is why we made BookForYou. BookForYou is a recommender system that suggests books for the user based on their inputted preferences for author, title, and book category. It uses book reviews from Amazon’s Book database to find the ideal book candidate."
   ]
  },
  {
   "attachments": {},
   "cell_type": "markdown",
   "metadata": {},
   "source": [
    "### Identification of required data"
   ]
  },
  {
   "attachments": {},
   "cell_type": "markdown",
   "metadata": {},
   "source": [
    "The dataset used is [Amazon Book Reviews](https://www.kaggle.com/datasets/mohamedbakhet/amazon-books-reviews?select=books_data.csv).\n",
    "\n",
    "The dataset consists of two entities, one with book details and the second containing book reviews. Each entity has 10 features, for a combined dataset size of 3.04 GB. As shown below, one book can have many reviews, but a review can only belong to a single book. Books are identified by their titles. From the book details, the title, author, year and category will be used. From the reviews entity, the content of the reviews, book rating, and the helpfulness rating of a given review will be used.\n",
    "\n",
    "![Entities picture](images\\entities.png)\n",
    "\n",
    "In the `book_details.csv` file, we will only keep some of the features. The following features will be removed\n",
    "-   image\n",
    "-   previewLink\n",
    "-   infoLink\n",
    "\n",
    "For null or empty values for the features being kept, we will\n",
    "-   Remove the entry if `title` is NULL\n",
    "-   Use the `reviews_text` feature if `description` is NULL\n",
    "-   Take the mean of other values in `publishedDate` if it is NULL\n",
    "    -   Only years will be kept"
   ]
  },
  {
   "attachments": {},
   "cell_type": "markdown",
   "metadata": {},
   "source": [
    "### Data PreProcessing"
   ]
  },
  {
   "attachments": {},
   "cell_type": "markdown",
   "metadata": {},
   "source": [
    "#### Identification of required data\n",
    "In the `book_details.csv` file, we identify which data will be useful to our recommender system.\n",
    "For this entity, we will "
   ]
  },
  {
   "cell_type": "code",
   "execution_count": 1,
   "metadata": {},
   "outputs": [],
   "source": [
    "import dask.dataframe as dd\n",
    "\n",
    "# #book_details = dd.read_csv('data/preprocessed/book_details.csv')\n",
    "# book_ratings= dd.read_csv('data/preprocessed/reviews.csv', blocksize=1000)\n",
    "# #book_details.head(10)\n",
    "# book_ratings.compute()"
   ]
  },
  {
   "cell_type": "code",
   "execution_count": 2,
   "metadata": {},
   "outputs": [],
   "source": [
    "import csv\n",
    "import os\n",
    "import sys\n",
    "# Spark imports\n",
    "from pyspark.rdd import RDD\n",
    "from pyspark.sql import DataFrame\n",
    "from pyspark.sql import SparkSession\n",
    "from pyspark.sql.functions import desc\n",
    "# Dask imports\n",
    "import dask.bag as db\n",
    "import dask.dataframe as details  # you can use Dask bags or dataframes\n",
    "from csv import reader\n",
    "from datetime import datetime\n",
    "\n"
   ]
  },
  {
   "cell_type": "code",
   "execution_count": 3,
   "metadata": {},
   "outputs": [],
   "source": [
    "# Spark initialization\n",
    "def init_spark():\n",
    "    spark = SparkSession \\\n",
    "        .builder \\\n",
    "        .appName(\"Python Spark SQL basic example\") \\\n",
    "        .config(\"spark.some.config.option\", \"some-value\") \\\n",
    "        .getOrCreate()\n",
    "    return spark"
   ]
  },
  {
   "cell_type": "code",
   "execution_count": 6,
   "metadata": {},
   "outputs": [
    {
     "name": "stdout",
     "output_type": "stream",
     "text": [
      "row Row(Title='Its Only Art If Its Well Hung!', description=None, authors=\"['Julie Strain']\", publisher='Unknown', publishedDate='1996', categories=\"['Comics & Graphic Novels']\", ratingsCount=None)\n",
      "Bad dates: 1996\n",
      "row Row(Title='Dr. Seuss: American Icon', description='\"Philip Nel takes a fascinating look into the key aspects of Seuss\\'s career - his poetry, politics, art, marketing, and place in the popular imagination.\"\" \"\"Nel argues convincingly that Dr. Seuss is one of the most influential poets in America. His nonsense verse', authors=' like that of Lewis Carroll and Edward Lear', publisher=' inspiring artists like filmmaker Tim Burton and illustrator Lane Smith. --from back cover\"', publishedDate=\"['Philip Nel']\", categories='http://books.google.nl/books?id=IjvHQsCn_pgC&printsec=frontcover&dq=Dr.+Seuss:+American+Icon&hl=&cd=1&source=gbs_api', ratingsCount='A&C Black')\n",
      "Bad dates: ['Philip Nel']\n",
      "row Row(Title='Wonderful Worship in Smaller Churches', description='This resource includes twelve principles in understanding small church worship, fifteen practices for planning worship with fewer than 100 people, and suggestions for congregational study.', authors=\"['David R. Ray']\", publisher='Unknown', publishedDate='2000', categories=\"['Religion']\", ratingsCount=None)\n",
      "Bad dates: 2000\n",
      "row Row(Title='Whispers of the Wicked Saints', description='Julia Thomas finds her life spinning out of control after the death of her husband, Richard. Julia turns to her minister for comfort when she finds herself falling for him with a passion that is forbidden by the church. Heath Sparks is a man of God who is busy taking care of his quadriplegic wife who was seriously injured in a sever car accident. In an innocent effort to reach out to a lonely member of his church, Heath finds himself as the man and not the minister as Heath and Julia surrender their bodies to each other and face the wrath of God. Julia finds herself in over her head as she faces a deadly disease, the loss of her home and whispers about her wicked affair. Julia leaves the states offering her body as a living sacrifice in hopes of finding a cure while her heart remains thousands of miles away hoping to one day reunite with the man who holds it hostage.Whispers of the Wicked Saints is a once in a lifetime romance that is breath taking, defying all the rules of romance and bending the laws of love.', authors=\"['Veronica Haddon']\", publisher='iUniverse', publishedDate='2005-02', categories=\"['Fiction']\", ratingsCount=None)\n",
      "Bad dates: 2005-02\n",
      "row Row(Title='The Church of Christ: A Biblical Ecclesiology for Today', description=\"In The Church of Christ: A Biblical Ecclesiology for Today, respected biblical scholar Everett Ferguson presents a genuine biblical theology of the church. By systematically examining the New Testament's teaching on the existence, meaning, and purpose of the church, providing responsible coverage of the traditional topics in ecclesiology, and carefully grounding ecclesiology in the person and work of Christ, Ferguson unveils a comprehensive model of the church that is both biblically centered and relevant to a world on the verge of the twenty-first century.\", authors=\"['Everett Ferguson']\", publisher='Wm. B. Eerdmans Publishing', publishedDate='1996', categories=\"['Religion']\", ratingsCount='5.0')\n",
      "Bad dates: 1996\n",
      "row Row(Title='The Overbury affair (Avon)', description=None, authors=\"['Miriam Allen De Ford']\", publisher='Unknown', publishedDate='1960', categories=None, ratingsCount=None)\n",
      "Bad dates: 1960\n"
     ]
    }
   ],
   "source": [
    "spark  = init_spark()\n",
    "details = spark.read.csv(\"data\\\\preprocessed\\\\book_details.csv\", header=True)\n",
    "details = details.select(\"Title\", \"description\", \"authors\", \"publisher\", \"publishedDate\", \"categories\",\"ratingsCount\")\n",
    "\n",
    "details = details.filter(details[\"Title\"] != '')\n",
    "details = details.fillna({\"authors\":\"Unknown\"})\n",
    "details = details.fillna({\"publisher\":\"Unknown\"})\n",
    "details = details.fillna({\"publishedDate\":\"Unknown\"})\n",
    "\n",
    "# if description is null, use review text\n",
    "i = 0\n",
    "for row in details.collect():\n",
    "  publish_date = row['publishedDate']\n",
    "  i= i+1\n",
    "  try:\n",
    "    publish_date = datetime.strptime(publish_date, '%Y-%m-%d').date()\n",
    "\n",
    "  except:\n",
    "    print(f'row {row}')\n",
    "    print(\"Bad dates:\", publish_date)\n",
    "\n",
    "  if(i==7):\n",
    "    break\n",
    "\n",
    "  # publish_date = datetime.strptime(publish_date, '%Y-%m-%d').date()\n",
    "  # publish_year = publish_date.year\n",
    "  # print(type(publish_date))\n",
    " \n",
    "    # print(details[row])\n",
    "    # break;\n",
    "# details = details.filter(details[\"User_id\"] != '')\n",
    "\n",
    "# details = details.filter(details[\"review/score\"] <= 5)\n",
    "# details = details.filter(details[\"review/score\"] >= 1)\n",
    "# no need to filter null values from review/summary\n",
    "# details.dropna()\n",
    "# details.show()\n",
    "# print(details.count())"
   ]
  }
 ],
 "metadata": {
  "kernelspec": {
   "display_name": "Python 3",
   "language": "python",
   "name": "python3"
  },
  "language_info": {
   "codemirror_mode": {
    "name": "ipython",
    "version": 3
   },
   "file_extension": ".py",
   "mimetype": "text/x-python",
   "name": "python",
   "nbconvert_exporter": "python",
   "pygments_lexer": "ipython3",
   "version": "3.8.0"
  },
  "orig_nbformat": 4
 },
 "nbformat": 4,
 "nbformat_minor": 2
}
