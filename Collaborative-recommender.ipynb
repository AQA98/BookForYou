{
 "cells": [
  {
   "attachments": {},
   "cell_type": "markdown",
   "metadata": {},
   "source": [
    "### Problem\n",
    "\n",
    "One of the biggest challenges when wanting to read books is finding the right book to read. That is why we made BookForYou. BookForYou is a recommender system that suggests books for the user based on their inputted preferences for author, title, and book category. It uses book reviews from Amazon’s Book database to find the ideal book candidate."
   ]
  },
  {
   "attachments": {},
   "cell_type": "markdown",
   "metadata": {},
   "source": [
    "### Identification of required data"
   ]
  },
  {
   "attachments": {},
   "cell_type": "markdown",
   "metadata": {},
   "source": [
    "For reviews the following features will be used:\n",
    "\n",
    "* Id (the id of the book)\n",
    "* title (Book Title)\n",
    "* user_id (Id of user who rate the book)\n",
    "* review/score (rating from 0 to 5 for the book)\n",
    "* review/summary (the summary of text review)"
   ]
  },
  {
   "attachments": {},
   "cell_type": "markdown",
   "metadata": {},
   "source": [
    "### Data PreProcessing"
   ]
  },
  {
   "attachments": {},
   "cell_type": "markdown",
   "metadata": {},
   "source": [
    "The following imports will be used for data preprocesing."
   ]
  },
  {
   "cell_type": "code",
   "execution_count": 3,
   "metadata": {},
   "outputs": [],
   "source": [
    "from pyspark.sql import SparkSession\n",
    "from pyspark.sql.functions import desc\n",
    "from pyspark.ml.feature import VectorAssembler\n",
    "from pyspark.ml.feature import StringIndexer, OneHotEncoder, VectorAssembler\n"
   ]
  },
  {
   "attachments": {},
   "cell_type": "markdown",
   "metadata": {},
   "source": [
    "Creating SparkSession"
   ]
  },
  {
   "cell_type": "code",
   "execution_count": 4,
   "metadata": {},
   "outputs": [],
   "source": [
    "def init_spark():\n",
    "    spark = SparkSession \\\n",
    "        .builder \\\n",
    "        .appName(\"BookForYou Recommender System\") \\\n",
    "        .config(\"spark.driver.memory\", \"8g\") \\\n",
    "        .config(\"spark.executor.memory\", \"8g\") \\\n",
    "        .getOrCreate()\n",
    "    return spark"
   ]
  },
  {
   "attachments": {},
   "cell_type": "markdown",
   "metadata": {},
   "source": [
    "### Importing the dataset"
   ]
  },
  {
   "cell_type": "code",
   "execution_count": 6,
   "metadata": {},
   "outputs": [],
   "source": [
    "spark  = init_spark()\n",
    "df_ratings = spark.read.csv(\"data\\\\preprocessed\\\\reviews.csv\", inferSchema=True, header=True)"
   ]
  },
  {
   "attachments": {},
   "cell_type": "markdown",
   "metadata": {},
   "source": [
    "Missing Data\n",
    "There may frequently be gaps in data sources, which leaves you with three main possibilities for completing the gaps\n",
    "\n",
    "1. Just keep the missing data points.\n",
    "2. Drop them missing data points (including the entire row)\n",
    "3. Fill them in with some other value."
   ]
  },
  {
   "cell_type": "code",
   "execution_count": 7,
   "metadata": {},
   "outputs": [],
   "source": [
    "df_ratings = df_ratings.select(\"Id\", \"Title\", \"User_id\", \"review/score\", \"review/summary\")\n",
    "df_ratings = df_ratings.na.drop(subset=[\"Id\",\"Title\",\"User_id\",\"review/score\",\"review/summary\"])\n",
    "df_ratings = df_ratings.withColumnRenamed(\"Id\", \"book_string\")\n",
    "df_ratings = df_ratings.withColumnRenamed(\"User_id\", \"User_string\")\n",
    "df_ratings = df_ratings.filter(df_ratings[\"review/score\"] <= 5)\n",
    "df_ratings = df_ratings.filter(df_ratings[\"review/score\"] >= 1)\n"
   ]
  },
  {
   "attachments": {},
   "cell_type": "markdown",
   "metadata": {},
   "source": [
    "Collaborative filtering => based off ratings of other users"
   ]
  },
  {
   "cell_type": "code",
   "execution_count": 8,
   "metadata": {},
   "outputs": [
    {
     "name": "stdout",
     "output_type": "stream",
     "text": [
      "+-----------+--------------------+--------------+------------+--------------------+\n",
      "|book_string|               Title|   User_string|review/score|      review/summary|\n",
      "+-----------+--------------------+--------------+------------+--------------------+\n",
      "| 1882931173|Its Only Art If I...| AVCGYZL8FQQTD|         4.0|Nice collection o...|\n",
      "| 0826414346|Dr. Seuss: Americ...|A30TK6U7DNS82R|         5.0|   Really Enjoyed It|\n",
      "| 0826414346|Dr. Seuss: Americ...|A3UH4UZ4RSVO82|         5.0|Essential for eve...|\n",
      "| 0826414346|Dr. Seuss: Americ...|A2MVUWT453QH61|         4.0|Phlip Nel gives s...|\n",
      "| 0826414346|Dr. Seuss: Americ...|A22X4XUPKF66MR|         4.0|Good academic ove...|\n",
      "| 0826414346|Dr. Seuss: Americ...|A2F6NONFUDB6UK|         4.0|One of America's ...|\n",
      "| 0826414346|Dr. Seuss: Americ...|A14OJS0VWMOSWO|         5.0|A memorably excel...|\n",
      "| 0826414346|Dr. Seuss: Americ...|A2RSSXTDZDUSH4|         5.0|Academia At It's ...|\n",
      "| 0826414346|Dr. Seuss: Americ...|A25MD5I2GUIW6W|         5.0|And to think that...|\n",
      "| 0826414346|Dr. Seuss: Americ...|A3VA4XFS5WNJO3|         4.0|Fascinating accou...|\n",
      "| 0829814000|Wonderful Worship...| AZ0IOBU20TBOP|         5.0|Outstanding Resou...|\n",
      "| 0829814000|Wonderful Worship...|A373VVEU6Z9M0N|         5.0|Small Churches CA...|\n",
      "| 0829814000|Wonderful Worship...| AGKGOH65VTRR4|         5.0|Not Just for Past...|\n",
      "| 0829814000|Wonderful Worship...| A3OQWLU31BU1Y|         5.0|Small church past...|\n",
      "| 0595344550|Whispers of the W...|A3Q12RK71N74LB|         1.0|            not good|\n",
      "| 0595344550|Whispers of the W...|A1E9M6APK30ZAU|         4.0|  Here is my opinion|\n",
      "| 0595344550|Whispers of the W...| AUR0VA5H0C66C|         1.0|        Buyer beware|\n",
      "| 0595344550|Whispers of the W...|A1YLDZ3VHR6QPZ|         5.0| Fall on your knee's|\n",
      "| 0595344550|Whispers of the W...| ACO23CG8K8T77|         5.0|      Bravo Veronica|\n",
      "| 0595344550|Whispers of the W...|A1VK81CRRC7MLM|         5.0|           Wonderful|\n",
      "+-----------+--------------------+--------------+------------+--------------------+\n",
      "only showing top 20 rows\n",
      "\n"
     ]
    }
   ],
   "source": [
    "df_ratings.show()"
   ]
  },
  {
   "cell_type": "code",
   "execution_count": 9,
   "metadata": {},
   "outputs": [
    {
     "name": "stdout",
     "output_type": "stream",
     "text": [
      "+-------+--------------------+--------------------+--------------------+-----------------+--------------------+\n",
      "|summary|         book_string|               Title|         User_string|     review/score|      review/summary|\n",
      "+-------+--------------------+--------------------+--------------------+-----------------+--------------------+\n",
      "|  count|             2420208|             2420208|             2420208|          2420208|             2420208|\n",
      "|   mean| 1.072548440143609E9|  2029.0781365666878|                null|4.227116429662244|            Infinity|\n",
      "| stddev|1.2973025907814867E9|  1738.2674242229316|                null|1.179690753614754|                 NaN|\n",
      "|    min|          0001047604|\"\"\" We'll Always ...|A00109803PZJ91RLT...|              1.0|                   !|\n",
      "|    max|          B0064P287I|xBase Programming...|       AZZZZW74AAX75|              5.0|~~~~~~~~~~~~~~~~~...|\n",
      "+-------+--------------------+--------------------+--------------------+-----------------+--------------------+\n",
      "\n"
     ]
    }
   ],
   "source": [
    "df_ratings.describe().show()"
   ]
  },
  {
   "cell_type": "code",
   "execution_count": 10,
   "metadata": {},
   "outputs": [
    {
     "name": "stdout",
     "output_type": "stream",
     "text": [
      "+--------------------+--------------------+--------+--------+-------+\n",
      "|               Title|      review/summary| book_id| User_id|ratings|\n",
      "+--------------------+--------------------+--------+--------+-------+\n",
      "|Its Only Art If I...|Nice collection o...|180201.0|167334.0|    1.0|\n",
      "|Dr. Seuss: Americ...|   Really Enjoyed It| 40116.0|    64.0|    0.0|\n",
      "|Dr. Seuss: Americ...|Essential for eve...| 40116.0|105599.0|    0.0|\n",
      "|Dr. Seuss: Americ...|Phlip Nel gives s...| 40116.0|  4472.0|    1.0|\n",
      "|Dr. Seuss: Americ...|Good academic ove...| 40116.0| 31627.0|    1.0|\n",
      "|Dr. Seuss: Americ...|One of America's ...| 40116.0|  3581.0|    1.0|\n",
      "|Dr. Seuss: Americ...|A memorably excel...| 40116.0|     0.0|    0.0|\n",
      "|Dr. Seuss: Americ...|Academia At It's ...| 40116.0|637113.0|    0.0|\n",
      "|Dr. Seuss: Americ...|And to think that...| 40116.0|130558.0|    0.0|\n",
      "|Dr. Seuss: Americ...|Fascinating accou...| 40116.0|837115.0|    1.0|\n",
      "|Wonderful Worship...|Outstanding Resou...| 76542.0|999164.0|    0.0|\n",
      "|Wonderful Worship...|Small Churches CA...| 76542.0|  6737.0|    0.0|\n",
      "|Wonderful Worship...|Not Just for Past...| 76542.0|905770.0|    0.0|\n",
      "|Wonderful Worship...|Small church past...| 76542.0|271312.0|    0.0|\n",
      "|Whispers of the W...|            not good| 11449.0|272659.0|    3.0|\n",
      "|Whispers of the W...|  Here is my opinion| 11449.0|385682.0|    1.0|\n",
      "|Whispers of the W...|        Buyer beware| 11449.0|307548.0|    3.0|\n",
      "|Whispers of the W...| Fall on your knee's| 11449.0| 38094.0|    0.0|\n",
      "|Whispers of the W...|      Bravo Veronica| 11449.0|885875.0|    0.0|\n",
      "|Whispers of the W...|           Wonderful| 11449.0|473482.0|    0.0|\n",
      "+--------------------+--------------------+--------+--------+-------+\n",
      "only showing top 20 rows\n",
      "\n"
     ]
    }
   ],
   "source": [
    "from pyspark.ml.feature import StringIndexer\n",
    "\n",
    "# Create a StringIndexer for the \"User_id\" column\n",
    "indexer = StringIndexer(inputCols=[\"book_string\",\"User_string\",\"review/score\"], outputCols=[\"book_id\",\"User_id\",\"ratings\"])\n",
    "\n",
    "# Fit the StringIndexer to the DataFrame\n",
    "df_ratings = indexer.fit(df_ratings).transform(df_ratings).drop(\"book_string\",\"User_string\",\"review/score\")\n",
    "\n",
    "# Show the result\n",
    "df_ratings.show()"
   ]
  },
  {
   "cell_type": "code",
   "execution_count": 14,
   "metadata": {},
   "outputs": [
    {
     "name": "stdout",
     "output_type": "stream",
     "text": [
      "+--------------------+--------------------+--------+--------+-------+\n",
      "|               Title|      review/summary| book_id| User_id|ratings|\n",
      "+--------------------+--------------------+--------+--------+-------+\n",
      "|Develop a Super M...|           Terrible.| 96689.0| 31412.0|    4.0|\n",
      "|  Simple French Food|Decent, but compl...| 15360.0|937842.0|    4.0|\n",
      "|Pale Horse, Pale ...|review part 2...p...| 29965.0| 31708.0|    4.0|\n",
      "|Thus Spake Zarath...|80% gibberish and...|  3411.0|   307.0|    4.0|\n",
      "|Long Day's Journe...|   Wholly Depressing|  5938.0|124896.0|    4.0|\n",
      "|Thus Spake Zarath...|Archaic language ...|  3411.0| 33988.0|    4.0|\n",
      "|Long Day's Journe...|Long Day's Journe...|  5938.0|  1368.0|    4.0|\n",
      "|Thus Spake Zarath...|Spelling/grammar ...|  3411.0| 35767.0|    4.0|\n",
      "|Long Day's Journe...|Im not happy with...|  5938.0| 83426.0|    4.0|\n",
      "|Complete Encyclop...|Not what I was lo...|183690.0|153684.0|    4.0|\n",
      "|Long Day's Journe...|     Long, Dull Read|  5938.0|  8294.0|    4.0|\n",
      "|The white company...|     Of another time| 10920.0| 14669.0|    4.0|\n",
      "|Nostradamus: Coun...|Not a genuine rep...| 64377.0|115969.0|    4.0|\n",
      "|Hotel California:...|jumbled assortmen...|  6557.0| 65791.0|    4.0|\n",
      "|Hotel California:...|    Hotel California|  6557.0|433686.0|    4.0|\n",
      "|Thus Spake Zarath...|influential, but ...|  3411.0| 36028.0|    4.0|\n",
      "|Hotel California:...|Boring, boring, b...|  6557.0|   775.0|    4.0|\n",
      "|Thus Spake Zarath...|Warning---not for...|  3411.0| 33716.0|    4.0|\n",
      "|Hotel California:...|Hotel California ...|  6557.0|347382.0|    4.0|\n",
      "| Rosy is My Relative|Very predictable ...| 51693.0| 56301.0|    4.0|\n",
      "+--------------------+--------------------+--------+--------+-------+\n",
      "only showing top 20 rows\n",
      "\n"
     ]
    }
   ],
   "source": [
    "df_ratings.orderBy(desc(\"ratings\")).show()"
   ]
  },
  {
   "attachments": {},
   "cell_type": "markdown",
   "metadata": {},
   "source": [
    "Splitting dataset into test and training sets"
   ]
  },
  {
   "cell_type": "code",
   "execution_count": 15,
   "metadata": {},
   "outputs": [],
   "source": [
    "ratings_training_set, ratings_test_set = df_ratings.randomSplit([0.8, 0.2], seed=1234)"
   ]
  },
  {
   "attachments": {},
   "cell_type": "markdown",
   "metadata": {},
   "source": [
    "### Creating the model"
   ]
  },
  {
   "cell_type": "code",
   "execution_count": 17,
   "metadata": {},
   "outputs": [],
   "source": [
    "from pyspark.ml.recommendation import ALS #alternating least squares algorithm\n",
    "from pyspark.ml.evaluation import RegressionEvaluator\n",
    "\n",
    "recommender = ALS(userCol=\"User_id\", itemCol=\"book_id\", ratingCol=\"ratings\", coldStartStrategy=\"drop\")\n",
    "recommender = recommender.fit(ratings_training_set)"
   ]
  },
  {
   "attachments": {},
   "cell_type": "markdown",
   "metadata": {},
   "source": [
    "Predicting with the test set"
   ]
  },
  {
   "cell_type": "code",
   "execution_count": 18,
   "metadata": {},
   "outputs": [],
   "source": [
    "predictions = recommender.transform(ratings_test_set)"
   ]
  },
  {
   "cell_type": "code",
   "execution_count": 25,
   "metadata": {},
   "outputs": [
    {
     "name": "stdout",
     "output_type": "stream",
     "text": [
      "+---------+--------------------+-------+--------+-------+------------+\n",
      "|    Title|      review/summary|book_id| User_id|ratings|  prediction|\n",
      "+---------+--------------------+-------+--------+-------+------------+\n",
      "|The Giver|Nothing less than...|   26.0|   642.0|    0.0|  0.18252607|\n",
      "|The Giver|Just As Haunting ...|   26.0|  1025.0|    0.0|  0.24569193|\n",
      "|The Giver|Unabrid Audio 4 c...|   26.0|  1307.0|    0.0|    0.547349|\n",
      "|The Giver|  Recovering Skeptic|   26.0|  1404.0|    0.0|0.0134774195|\n",
      "|The Giver|What a book!! Les...|   26.0|  1483.0|    0.0|  0.08945813|\n",
      "|The Giver| Inspirational Read!|   26.0|  1873.0|    0.0|  0.43163276|\n",
      "|The Giver|A Fable About The...|   26.0|  3691.0|    0.0|-0.033304073|\n",
      "|The Giver|  A Perfect Society?|   26.0|  5417.0|    0.0| 0.082039855|\n",
      "|The Giver|    Utopian distopia|   26.0| 12315.0|    1.0|   0.6868459|\n",
      "|The Giver|       Great Book!!!|   26.0| 26273.0|    0.0|  -0.1762047|\n",
      "|The Giver|A life-changing book|   26.0| 29426.0|    0.0|         0.0|\n",
      "|The Giver|           The Giver|   26.0| 35021.0|    0.0| -0.06475031|\n",
      "|The Giver|Without sorrow......|   26.0| 79262.0|    1.0|         0.0|\n",
      "|The Giver|           The Giver|   26.0| 80522.0|    1.0|   0.7462354|\n",
      "|The Giver|   I Loved This Book|   26.0| 90524.0|    0.0|         0.0|\n",
      "|The Giver|Could have done m...|   26.0| 95809.0|    4.0|  0.23752615|\n",
      "|The Giver|Great book, bad e...|   26.0| 96954.0|    1.0|   1.0025451|\n",
      "|The Giver|Ghastly! NOT for ...|   26.0|101659.0|    4.0|    3.386805|\n",
      "|The Giver|Twister for your ...|   26.0|109416.0|    0.0|         0.0|\n",
      "|The Giver|Great book, somew...|   26.0|115527.0|    0.0|         0.0|\n",
      "+---------+--------------------+-------+--------+-------+------------+\n",
      "only showing top 20 rows\n",
      "\n"
     ]
    }
   ],
   "source": [
    "predictions.show()"
   ]
  },
  {
   "attachments": {},
   "cell_type": "markdown",
   "metadata": {},
   "source": [
    "# Evalutate the model\n",
    "\n",
    "Compute the Root-Mean Squared Error using LogisticRegression\n",
    "RMS = sqrt( sum(1,n) {pred - actual}^2)"
   ]
  },
  {
   "cell_type": "code",
   "execution_count": 21,
   "metadata": {},
   "outputs": [
    {
     "name": "stdout",
     "output_type": "stream",
     "text": [
      "Root-mean-square error = 0.8845507023256933\n"
     ]
    }
   ],
   "source": [
    "from pyspark.ml.evaluation import RegressionEvaluator\n",
    "evaluator = RegressionEvaluator(metricName=\"rmse\", labelCol=\"ratings\", predictionCol=\"prediction\")\n",
    "rmse = evaluator.evaluate(predictions)\n",
    "print(\"Root-mean-square error = \" + str(rmse))"
   ]
  },
  {
   "attachments": {},
   "cell_type": "markdown",
   "metadata": {},
   "source": [
    "Making Recommendations"
   ]
  },
  {
   "cell_type": "code",
   "execution_count": 27,
   "metadata": {},
   "outputs": [
    {
     "name": "stdout",
     "output_type": "stream",
     "text": [
      "+--------------------+--------------------+--------+-------+-------+\n",
      "|               Title|      review/summary| book_id|User_id|ratings|\n",
      "+--------------------+--------------------+--------+-------+-------+\n",
      "|Witness to Myself...|Terrific modern n...| 33535.0|  642.0|    0.0|\n",
      "|         Red Prophet|Slow going, but s...|  8659.0|  642.0|    2.0|\n",
      "|   Carry On, Jeeves!|Classic Wodehousi...|  7566.0|  642.0|    0.0|\n",
      "|     Nightmare House|A great audio of ...|  8136.0|  642.0|    0.0|\n",
      "|            Vendetta|Complex and inter...| 87914.0|  642.0|    0.0|\n",
      "|           The Giver|Nothing less than...|    26.0|  642.0|    0.0|\n",
      "|    A Stir of Echoes|One of his best; ...|  6264.0|  642.0|    0.0|\n",
      "|Donovan's Brain (...|      Landmark Novel|104538.0|  642.0|    1.0|\n",
      "| Beyond the Outposts|A great book in a...| 91328.0|  642.0|    0.0|\n",
      "|Claudius the god:...|The Sopranos of A...|  8208.0|  642.0|    0.0|\n",
      "|    Come Out Tonight|One of Laymon's best|213273.0|  642.0|    0.0|\n",
      "|Stranger in a Str...|Were my expectati...|   473.0|  642.0|    2.0|\n",
      "|The Big Rock Cand...|Terrific autobiog...| 10481.0|  642.0|    0.0|\n",
      "|Last Week's Apoca...|Solid debut colle...| 98585.0|  642.0|    1.0|\n",
      "|    Terrible Thrills|Great debut colle...|129622.0|  642.0|    1.0|\n",
      "|The Big Rock Cand...|Terrific autobiog...| 10579.0|  642.0|    0.0|\n",
      "|The New Shorter O...|Best dictionary f...|  5672.0|  642.0|    0.0|\n",
      "|  Tarzan of the Apes|&quot;A Ripping G...|  1803.0|  642.0|    0.0|\n",
      "|Donovan's Brain/H...|Great Introductio...|206031.0|  642.0|    1.0|\n",
      "|Stanger in a Stra...|Were my expectati...|   509.0|  642.0|    2.0|\n",
      "+--------------------+--------------------+--------+-------+-------+\n",
      "\n"
     ]
    }
   ],
   "source": [
    "ratings_test_set.filter(ratings_test_set[\"User_id\"] == 642.0).show()"
   ]
  },
  {
   "cell_type": "code",
   "execution_count": 28,
   "metadata": {},
   "outputs": [],
   "source": [
    "test_user = ratings_test_set.filter(ratings_test_set[\"User_id\"] == 642.0).select(\"book_id\",\"User_id\",\"Title\",\"review/summary\")"
   ]
  },
  {
   "cell_type": "code",
   "execution_count": 29,
   "metadata": {},
   "outputs": [
    {
     "name": "stdout",
     "output_type": "stream",
     "text": [
      "+--------+-------+--------------------+--------------------+\n",
      "| book_id|User_id|               Title|      review/summary|\n",
      "+--------+-------+--------------------+--------------------+\n",
      "| 33535.0|  642.0|Witness to Myself...|Terrific modern n...|\n",
      "|  8659.0|  642.0|         Red Prophet|Slow going, but s...|\n",
      "|  7566.0|  642.0|   Carry On, Jeeves!|Classic Wodehousi...|\n",
      "|  8136.0|  642.0|     Nightmare House|A great audio of ...|\n",
      "| 87914.0|  642.0|            Vendetta|Complex and inter...|\n",
      "|    26.0|  642.0|           The Giver|Nothing less than...|\n",
      "|  6264.0|  642.0|    A Stir of Echoes|One of his best; ...|\n",
      "|104538.0|  642.0|Donovan's Brain (...|      Landmark Novel|\n",
      "| 91328.0|  642.0| Beyond the Outposts|A great book in a...|\n",
      "|  8208.0|  642.0|Claudius the god:...|The Sopranos of A...|\n",
      "|213273.0|  642.0|    Come Out Tonight|One of Laymon's best|\n",
      "|   473.0|  642.0|Stranger in a Str...|Were my expectati...|\n",
      "| 10481.0|  642.0|The Big Rock Cand...|Terrific autobiog...|\n",
      "| 98585.0|  642.0|Last Week's Apoca...|Solid debut colle...|\n",
      "|129622.0|  642.0|    Terrible Thrills|Great debut colle...|\n",
      "| 10579.0|  642.0|The Big Rock Cand...|Terrific autobiog...|\n",
      "|  5672.0|  642.0|The New Shorter O...|Best dictionary f...|\n",
      "|  1803.0|  642.0|  Tarzan of the Apes|&quot;A Ripping G...|\n",
      "|206031.0|  642.0|Donovan's Brain/H...|Great Introductio...|\n",
      "|   509.0|  642.0|Stanger in a Stra...|Were my expectati...|\n",
      "+--------+-------+--------------------+--------------------+\n",
      "\n"
     ]
    }
   ],
   "source": [
    "test_user.show()"
   ]
  },
  {
   "cell_type": "code",
   "execution_count": 30,
   "metadata": {},
   "outputs": [],
   "source": [
    "recommendations = recommender.transform(test_user)"
   ]
  },
  {
   "cell_type": "code",
   "execution_count": 31,
   "metadata": {},
   "outputs": [
    {
     "name": "stdout",
     "output_type": "stream",
     "text": [
      "+--------+-------+--------------------+--------------------+-----------+\n",
      "| book_id|User_id|               Title|      review/summary| prediction|\n",
      "+--------+-------+--------------------+--------------------+-----------+\n",
      "|   473.0|  642.0|Stranger in a Str...|Were my expectati...|   1.593513|\n",
      "|   509.0|  642.0|Stanger in a Stra...|Were my expectati...|  1.5815586|\n",
      "|  8659.0|  642.0|         Red Prophet|Slow going, but s...|  1.3491691|\n",
      "|  8136.0|  642.0|     Nightmare House|A great audio of ...| 0.89534837|\n",
      "| 33535.0|  642.0|Witness to Myself...|Terrific modern n...|  0.8458453|\n",
      "|  6264.0|  642.0|    A Stir of Echoes|One of his best; ...|  0.8253751|\n",
      "|  5672.0|  642.0|The New Shorter O...|Best dictionary f...|  0.7862632|\n",
      "|104538.0|  642.0|Donovan's Brain (...|      Landmark Novel| 0.40847343|\n",
      "|  8208.0|  642.0|Claudius the god:...|The Sopranos of A...| 0.24503751|\n",
      "|  7566.0|  642.0|   Carry On, Jeeves!|Classic Wodehousi...| 0.22320217|\n",
      "|    26.0|  642.0|           The Giver|Nothing less than...| 0.18252607|\n",
      "| 10481.0|  642.0|The Big Rock Cand...|Terrific autobiog...| 0.15004706|\n",
      "| 10579.0|  642.0|The Big Rock Cand...|Terrific autobiog...| 0.12113099|\n",
      "| 98585.0|  642.0|Last Week's Apoca...|Solid debut colle...|        0.0|\n",
      "| 87914.0|  642.0|            Vendetta|Complex and inter...|        0.0|\n",
      "| 91328.0|  642.0| Beyond the Outposts|A great book in a...|        0.0|\n",
      "|129622.0|  642.0|    Terrible Thrills|Great debut colle...|        0.0|\n",
      "|  1803.0|  642.0|  Tarzan of the Apes|&quot;A Ripping G...|-0.01005419|\n",
      "+--------+-------+--------------------+--------------------+-----------+\n",
      "\n"
     ]
    }
   ],
   "source": [
    "recommendations.orderBy(desc(\"prediction\")).show()"
   ]
  }
 ],
 "metadata": {
  "kernelspec": {
   "display_name": "Python 3",
   "language": "python",
   "name": "python3"
  },
  "language_info": {
   "codemirror_mode": {
    "name": "ipython",
    "version": 3
   },
   "file_extension": ".py",
   "mimetype": "text/x-python",
   "name": "python",
   "nbconvert_exporter": "python",
   "pygments_lexer": "ipython3",
   "version": "3.10.7"
  },
  "orig_nbformat": 4
 },
 "nbformat": 4,
 "nbformat_minor": 2
}
