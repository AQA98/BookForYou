{
 "cells": [
  {
   "attachments": {},
   "cell_type": "markdown",
   "metadata": {},
   "source": [
    "### Problem\n",
    "\n",
    "One of the biggest challenges when wanting to read books is finding the right book to read. That is why we made BookForYou. BookForYou is a recommender system that suggests books for the user based on their inputted preferences for author, title, and book category. It uses book reviews from Amazon’s Book database to find the ideal book candidate."
   ]
  },
  {
   "attachments": {},
   "cell_type": "markdown",
   "metadata": {},
   "source": [
    "### Identification of required data"
   ]
  },
  {
   "attachments": {},
   "cell_type": "markdown",
   "metadata": {},
   "source": [
    "The dataset used is [Amazon Book Reviews](https://www.kaggle.com/datasets/mohamedbakhet/amazon-books-reviews?select=books_data.csv).\n",
    "\n",
    "The dataset consists of two entities, one with book details and the second containing book reviews. Each entity has 10 features, for a combined dataset size of 3.04 GB. As shown below, one book can have many reviews, but a review can only belong to a single book. Books are identified by their titles. From the book details, the title, author, year and category will be used. From the reviews entity, the content of the reviews, book rating, and the helpfulness rating of a given review will be used.\n",
    "\n",
    "![Entities picture](images\\entities.png)\n",
    "\n",
    "For Book_details the following features will be used:\n",
    "For reviews the following features will be used:\n",
    "\n",
    "# can check relevancy of features using correlation metrics (pearson similarity) of decision tree?\n",
    "* Id (the id of the book)\n",
    "* title (Book Title)\n",
    "* user_id (Id of user who rate the book)\n",
    "* review/score (rating from 0 to 5 for the book)\n",
    "* review/summary (the summary of text review)"
   ]
  },
  {
   "attachments": {},
   "cell_type": "markdown",
   "metadata": {},
   "source": [
    "### Data PreProcessing"
   ]
  },
  {
   "attachments": {},
   "cell_type": "markdown",
   "metadata": {},
   "source": [
    "The following imports will be used for data preprocesing."
   ]
  },
  {
   "cell_type": "code",
   "execution_count": 1,
   "metadata": {},
   "outputs": [],
   "source": [
    "import csv\n",
    "import os\n",
    "import sys\n",
    "# Spark imports\n",
    "from pyspark.rdd import RDD\n",
    "from pyspark.sql import DataFrame\n",
    "from pyspark.sql import SparkSession\n",
    "from pyspark.sql.functions import desc\n",
    "# Dask imports\n",
    "import dask.bag as db\n",
    "import dask.dataframe as df  # you can use Dask bags or dataframes\n",
    "from csv import reader\n",
    "import numpy as np\n",
    "import matplotlib\n",
    "import matplotlib.pyplot as plt\n",
    "import sklearn\n",
    "import sklearn.tree        # For DecisionTreeClassifier class\n",
    "import sklearn.ensemble    # For RandomForestClassifier class\n",
    "import sklearn.datasets    # For make_circles\n",
    "import sklearn.metrics     # For accuracy_score\n",
    "from pyspark.ml.feature import VectorAssembler\n",
    "from pyspark.ml.classification import DecisionTreeClassifier\n",
    "from pyspark.ml.feature import StringIndexer, OneHotEncoder, VectorAssembler\n",
    "from pyspark.ml.classification import DecisionTreeClassifier\n",
    "from pyspark.ml.recommendation import ALS \n",
    "from pyspark.sql.functions import col"
   ]
  },
  {
   "attachments": {},
   "cell_type": "markdown",
   "metadata": {},
   "source": [
    "Creating SparkSession"
   ]
  },
  {
   "cell_type": "code",
   "execution_count": 2,
   "metadata": {},
   "outputs": [],
   "source": [
    "def init_spark():\n",
    "    spark = SparkSession \\\n",
    "        .builder \\\n",
    "        .appName(\"BookForYou Recommender System\") \\\n",
    "        .config(\"spark.driver.memory\", \"8g\") \\\n",
    "        .config(\"spark.executor.memory\", \"8g\") \\\n",
    "        .getOrCreate()\n",
    "    return spark"
   ]
  },
  {
   "attachments": {},
   "cell_type": "markdown",
   "metadata": {},
   "source": [
    "Decision Trees for feature importance\n",
    "(USELESS CODE)"
   ]
  },
  {
   "cell_type": "code",
   "execution_count": 15,
   "metadata": {},
   "outputs": [],
   "source": [
    "\n",
    "# # define the categorical features to one-hot encode\n",
    "# categorical_cols = ['Id', 'Title', 'Price', 'User_id', 'profileName', 'review/helpfulness', 'review/score', 'review/time', 'review/summary', 'review/text']\n",
    "\n",
    "\n",
    "# # create a list of string indexers for each categorical feature\n",
    "# indexers = [StringIndexer(inputCol=col, outputCol=col + \"_index\") for col in categorical_cols]\n",
    "\n",
    "# encoder = OneHotEncoder(inputCols=[indexer.getOutputCol() for indexer in indexers],\n",
    "#                                  outputCols=[col + \"_encoded\" for col in categorical_cols])\n",
    "\n",
    "# # fit the indexers and encoder to the data\n",
    "# indexers_models = [indexer.fit(df) for indexer in indexers]\n",
    "# encoded_df = encoder.fit(\n",
    "#     reduce(lambda data, model: model.transform(data), indexers_models, df)\n",
    "# ).transform(\n",
    "#     reduce(lambda data, model: model.transform(data), indexers_models, df)\n",
    "# )\n",
    "# print(encoded_df.columns)\n",
    "# dt = DecisionTreeClassifier(labelCol=\"review/score_index\", featuresCol='review/summary_encoded', maxDepth=2, maxBins=1000)\n",
    "# model = dt.fit(encoded_df)\n",
    "# print(model.featureImportances)\n",
    "# print(df.count())"
   ]
  },
  {
   "attachments": {},
   "cell_type": "markdown",
   "metadata": {},
   "source": [
    "### Reviews Table \n",
    "We will read the data from the csv file"
   ]
  },
  {
   "cell_type": "code",
   "execution_count": 3,
   "metadata": {},
   "outputs": [],
   "source": [
    "spark  = init_spark()\n",
    "df_ratings = spark.read.csv(\"data/preprocessed/reviews.csv\", header=True)"
   ]
  },
  {
   "attachments": {},
   "cell_type": "markdown",
   "metadata": {},
   "source": [
    "Missing Data\n",
    "There may frequently be gaps in data sources, which leaves you with three main possibilities for completing the gaps\n",
    "\n",
    "1. Just keep the missing data points.\n",
    "2. Drop them missing data points (including the entire row)\n",
    "3. Fill them in with some other value."
   ]
  },
  {
   "cell_type": "code",
   "execution_count": 4,
   "metadata": {},
   "outputs": [],
   "source": [
    "df_ratings = df_ratings.select(\"Id\", \"Title\", \"User_id\", \"review/score\", \"review/summary\")\n",
    "df_ratings = df_ratings.na.drop(subset=[\"Id\",\"Title\",\"User_id\",\"review/score\",\"review/summary\"])\n",
    "df_ratings = df_ratings.withColumnRenamed(\"Id\", \"book_string\")\n",
    "df_ratings = df_ratings.withColumnRenamed(\"User_id\", \"User_string\")\n",
    "df_ratings = df_ratings.filter(df_ratings[\"review/score\"] <= 5)\n",
    "df_ratings = df_ratings.filter(df_ratings[\"review/score\"] >= 1)\n",
    "#df.describe().show()"
   ]
  },
  {
   "cell_type": "code",
   "execution_count": 5,
   "metadata": {},
   "outputs": [],
   "source": [
    "from pyspark.ml.feature import StringIndexer\n",
    "\n",
    "# Create a StringIndexer for the \"User_id\" column\n",
    "indexer = StringIndexer(inputCols=[\"book_string\",\"User_string\",\"review/score\",\"Title\"], outputCols=[\"book_id\",\"User_id\",\"rating\",\"Book_title\"])\n",
    "\n",
    "# Fit the StringIndexer to the DataFrame\n",
    "df_ratings = indexer.fit(df_ratings).transform(df_ratings).drop(\"book_string\",\"User_string\", \"review/score\",\"Title\", \"review/summary\")\n",
    "\n",
    "# Show the result\n",
    "#df_ratings.show()"
   ]
  },
  {
   "cell_type": "code",
   "execution_count": 6,
   "metadata": {},
   "outputs": [],
   "source": [
    "# Transform the dataset\n",
    "from pyspark.ml.feature import VectorAssembler\n",
    "assembler = VectorAssembler(inputCols=df_ratings.columns, outputCol='features')\n",
    "df_ratings = assembler.transform(df_ratings)"
   ]
  },
  {
   "cell_type": "code",
   "execution_count": 7,
   "metadata": {},
   "outputs": [
    {
     "name": "stdout",
     "output_type": "stream",
     "text": [
      "+--------+--------+------+----------+--------------------+--------------------+\n",
      "| book_id| User_id|rating|Book_title|            features|     scaled_features|\n",
      "+--------+--------+------+----------+--------------------+--------------------+\n",
      "|180201.0|167334.0|   1.0|  164569.0|[180201.0,167334....|[4.48501061902150...|\n",
      "| 40116.0|    64.0|   0.0|   37769.0|[40116.0,64.0,0.0...|[0.99844443700460...|\n",
      "| 40116.0|105599.0|   0.0|   37769.0|[40116.0,105599.0...|[0.99844443700460...|\n",
      "| 40116.0|  4472.0|   1.0|   37769.0|[40116.0,4472.0,1...|[0.99844443700460...|\n",
      "| 40116.0| 31627.0|   1.0|   37769.0|[40116.0,31627.0,...|[0.99844443700460...|\n",
      "| 40116.0|  3581.0|   1.0|   37769.0|[40116.0,3581.0,1...|[0.99844443700460...|\n",
      "| 40116.0|     0.0|   0.0|   37769.0|[40116.0,0.0,0.0,...|[0.99844443700460...|\n",
      "| 40116.0|637113.0|   0.0|   37769.0|[40116.0,637113.0...|[0.99844443700460...|\n",
      "| 40116.0|130558.0|   0.0|   37769.0|[40116.0,130558.0...|[0.99844443700460...|\n",
      "| 40116.0|837115.0|   1.0|   37769.0|[40116.0,837115.0...|[0.99844443700460...|\n",
      "| 76542.0|999164.0|   0.0|   82154.0|[76542.0,999164.0...|[1.90504871116777...|\n",
      "| 76542.0|  6737.0|   0.0|   82154.0|[76542.0,6737.0,0...|[1.90504871116777...|\n",
      "| 76542.0|905770.0|   0.0|   82154.0|[76542.0,905770.0...|[1.90504871116777...|\n",
      "| 76542.0|271312.0|   0.0|   82154.0|[76542.0,271312.0...|[1.90504871116777...|\n",
      "| 11449.0|272659.0|   3.0|   11208.0|[11449.0,272659.0...|[0.28495339413864...|\n",
      "| 11449.0|385682.0|   1.0|   11208.0|[11449.0,385682.0...|[0.28495339413864...|\n",
      "| 11449.0|307548.0|   3.0|   11208.0|[11449.0,307548.0...|[0.28495339413864...|\n",
      "| 11449.0| 38094.0|   0.0|   11208.0|[11449.0,38094.0,...|[0.28495339413864...|\n",
      "| 11449.0|885875.0|   0.0|   11208.0|[11449.0,885875.0...|[0.28495339413864...|\n",
      "| 11449.0|473482.0|   0.0|   11208.0|[11449.0,473482.0...|[0.28495339413864...|\n",
      "+--------+--------+------+----------+--------------------+--------------------+\n",
      "only showing top 20 rows\n",
      "\n"
     ]
    }
   ],
   "source": [
    "# # Feature scaling\n",
    "# from pyspark.ml.feature import StandardScaler\n",
    "\n",
    "# input_cols = ['Id', 'Title', 'User']\n",
    "# output_cols = ['scaled_col1', 'scaled_col2', 'scaled_col3']\n",
    "\n",
    "# scaler = StandardScaler(inputCols=input_cols, outputCols=output_cols)\n",
    "# df = scaler.fit(df).transform(df)\n",
    "# #scaler = StandardScaler(inputCol='features', outputCol='scaled_features')\n",
    "# #df = scaler.fit(df).transform(df)\n",
    "\n",
    "\n",
    "# Feature scaling\n",
    "from pyspark.ml.feature import StandardScaler\n",
    "scaler = StandardScaler(inputCol='features', outputCol='scaled_features')\n",
    "df_ratings = scaler.fit(df_ratings).transform(df_ratings)\n",
    "df_ratings.show()"
   ]
  },
  {
   "cell_type": "code",
   "execution_count": 14,
   "metadata": {},
   "outputs": [],
   "source": [
    "# Creating the model\n",
    "from pyspark.ml.clustering import KMeans\n",
    "kmeans = KMeans(featuresCol='scaled_features', k=3)\n",
    "kmeans = kmeans.fit(df_ratings)\n",
    "#kmeans.show()"
   ]
  },
  {
   "cell_type": "code",
   "execution_count": 15,
   "metadata": {},
   "outputs": [],
   "source": [
    "# Getting the predictions\n",
    "kmeans = kmeans.transform(df_ratings)"
   ]
  },
  {
   "cell_type": "code",
   "execution_count": 16,
   "metadata": {},
   "outputs": [
    {
     "name": "stdout",
     "output_type": "stream",
     "text": [
      "+--------+--------+------+----------+--------------------+--------------------+----------+\n",
      "| book_id| User_id|rating|Book_title|            features|     scaled_features|prediction|\n",
      "+--------+--------+------+----------+--------------------+--------------------+----------+\n",
      "|180201.0|167334.0|   1.0|  164569.0|[180201.0,167334....|[4.48501061902150...|         0|\n",
      "| 40116.0|    64.0|   0.0|   37769.0|[40116.0,64.0,0.0...|[0.99844443700460...|         1|\n",
      "| 40116.0|105599.0|   0.0|   37769.0|[40116.0,105599.0...|[0.99844443700460...|         1|\n",
      "| 40116.0|  4472.0|   1.0|   37769.0|[40116.0,4472.0,1...|[0.99844443700460...|         1|\n",
      "| 40116.0| 31627.0|   1.0|   37769.0|[40116.0,31627.0,...|[0.99844443700460...|         1|\n",
      "| 40116.0|  3581.0|   1.0|   37769.0|[40116.0,3581.0,1...|[0.99844443700460...|         1|\n",
      "| 40116.0|     0.0|   0.0|   37769.0|[40116.0,0.0,0.0,...|[0.99844443700460...|         1|\n",
      "| 40116.0|637113.0|   0.0|   37769.0|[40116.0,637113.0...|[0.99844443700460...|         1|\n",
      "| 40116.0|130558.0|   0.0|   37769.0|[40116.0,130558.0...|[0.99844443700460...|         1|\n",
      "| 40116.0|837115.0|   1.0|   37769.0|[40116.0,837115.0...|[0.99844443700460...|         1|\n",
      "| 76542.0|999164.0|   0.0|   82154.0|[76542.0,999164.0...|[1.90504871116777...|         0|\n",
      "| 76542.0|  6737.0|   0.0|   82154.0|[76542.0,6737.0,0...|[1.90504871116777...|         0|\n",
      "| 76542.0|905770.0|   0.0|   82154.0|[76542.0,905770.0...|[1.90504871116777...|         0|\n",
      "| 76542.0|271312.0|   0.0|   82154.0|[76542.0,271312.0...|[1.90504871116777...|         0|\n",
      "| 11449.0|272659.0|   3.0|   11208.0|[11449.0,272659.0...|[0.28495339413864...|         2|\n",
      "| 11449.0|385682.0|   1.0|   11208.0|[11449.0,385682.0...|[0.28495339413864...|         1|\n",
      "| 11449.0|307548.0|   3.0|   11208.0|[11449.0,307548.0...|[0.28495339413864...|         2|\n",
      "| 11449.0| 38094.0|   0.0|   11208.0|[11449.0,38094.0,...|[0.28495339413864...|         1|\n",
      "| 11449.0|885875.0|   0.0|   11208.0|[11449.0,885875.0...|[0.28495339413864...|         1|\n",
      "| 11449.0|473482.0|   0.0|   11208.0|[11449.0,473482.0...|[0.28495339413864...|         1|\n",
      "+--------+--------+------+----------+--------------------+--------------------+----------+\n",
      "only showing top 20 rows\n",
      "\n"
     ]
    }
   ],
   "source": [
    "kmeans.show(20)"
   ]
  },
  {
   "cell_type": "code",
   "execution_count": 17,
   "metadata": {},
   "outputs": [],
   "source": [
    "# Creating the model\n",
    "from pyspark.ml.clustering import KMeans\n",
    "kmeans = KMeans(featuresCol='scaled_features', k=2)\n",
    "kmeans = kmeans.fit(df_ratings)\n",
    "#kmeans.show()"
   ]
  },
  {
   "cell_type": "code",
   "execution_count": 19,
   "metadata": {},
   "outputs": [],
   "source": [
    "# Getting the predictions\n",
    "kmeans = kmeans.transform(df_ratings)"
   ]
  },
  {
   "cell_type": "code",
   "execution_count": 20,
   "metadata": {},
   "outputs": [
    {
     "name": "stdout",
     "output_type": "stream",
     "text": [
      "+--------+--------+------+----------+--------------------+--------------------+----------+\n",
      "| book_id| User_id|rating|Book_title|            features|     scaled_features|prediction|\n",
      "+--------+--------+------+----------+--------------------+--------------------+----------+\n",
      "|180201.0|167334.0|   1.0|  164569.0|[180201.0,167334....|[4.48501061902150...|         0|\n",
      "| 40116.0|    64.0|   0.0|   37769.0|[40116.0,64.0,0.0...|[0.99844443700460...|         1|\n",
      "| 40116.0|105599.0|   0.0|   37769.0|[40116.0,105599.0...|[0.99844443700460...|         1|\n",
      "| 40116.0|  4472.0|   1.0|   37769.0|[40116.0,4472.0,1...|[0.99844443700460...|         1|\n",
      "| 40116.0| 31627.0|   1.0|   37769.0|[40116.0,31627.0,...|[0.99844443700460...|         1|\n",
      "| 40116.0|  3581.0|   1.0|   37769.0|[40116.0,3581.0,1...|[0.99844443700460...|         1|\n",
      "| 40116.0|     0.0|   0.0|   37769.0|[40116.0,0.0,0.0,...|[0.99844443700460...|         1|\n",
      "| 40116.0|637113.0|   0.0|   37769.0|[40116.0,637113.0...|[0.99844443700460...|         1|\n",
      "| 40116.0|130558.0|   0.0|   37769.0|[40116.0,130558.0...|[0.99844443700460...|         1|\n",
      "| 40116.0|837115.0|   1.0|   37769.0|[40116.0,837115.0...|[0.99844443700460...|         1|\n",
      "| 76542.0|999164.0|   0.0|   82154.0|[76542.0,999164.0...|[1.90504871116777...|         0|\n",
      "| 76542.0|  6737.0|   0.0|   82154.0|[76542.0,6737.0,0...|[1.90504871116777...|         0|\n",
      "| 76542.0|905770.0|   0.0|   82154.0|[76542.0,905770.0...|[1.90504871116777...|         0|\n",
      "| 76542.0|271312.0|   0.0|   82154.0|[76542.0,271312.0...|[1.90504871116777...|         0|\n",
      "| 11449.0|272659.0|   3.0|   11208.0|[11449.0,272659.0...|[0.28495339413864...|         1|\n",
      "| 11449.0|385682.0|   1.0|   11208.0|[11449.0,385682.0...|[0.28495339413864...|         1|\n",
      "| 11449.0|307548.0|   3.0|   11208.0|[11449.0,307548.0...|[0.28495339413864...|         1|\n",
      "| 11449.0| 38094.0|   0.0|   11208.0|[11449.0,38094.0,...|[0.28495339413864...|         1|\n",
      "| 11449.0|885875.0|   0.0|   11208.0|[11449.0,885875.0...|[0.28495339413864...|         1|\n",
      "| 11449.0|473482.0|   0.0|   11208.0|[11449.0,473482.0...|[0.28495339413864...|         1|\n",
      "+--------+--------+------+----------+--------------------+--------------------+----------+\n",
      "only showing top 20 rows\n",
      "\n"
     ]
    }
   ],
   "source": [
    "kmeans.show(20)"
   ]
  },
  {
   "attachments": {},
   "cell_type": "markdown",
   "metadata": {},
   "source": []
  }
 ],
 "metadata": {
  "kernelspec": {
   "display_name": "Python 3",
   "language": "python",
   "name": "python3"
  },
  "language_info": {
   "codemirror_mode": {
    "name": "ipython",
    "version": 3
   },
   "file_extension": ".py",
   "mimetype": "text/x-python",
   "name": "python",
   "nbconvert_exporter": "python",
   "pygments_lexer": "ipython3",
   "version": "3.8.8"
  },
  "orig_nbformat": 4
 },
 "nbformat": 4,
 "nbformat_minor": 2
}
